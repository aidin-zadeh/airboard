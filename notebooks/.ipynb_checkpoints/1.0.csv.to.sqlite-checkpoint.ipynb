{
 "cells": [
  {
   "cell_type": "code",
   "execution_count": 1,
   "metadata": {},
   "outputs": [],
   "source": [
    "# import dependencies\n",
    "import os, inspect\n",
    "from sqlalchemy import create_engine\n",
    "import sqlite3\n",
    "import pandas as pd\n",
    "\n",
    "# get current dir\n",
    "curr_dir = os.path.dirname(inspect.getabsfile(inspect.currentframe()))\n",
    "root_dir = os.path.dirname(curr_dir)"
   ]
  },
  {
   "cell_type": "code",
   "execution_count": 3,
   "metadata": {},
   "outputs": [],
   "source": [
    "db_name =  os.path.join(root_dir,\n",
    "                        \"airboard\",\n",
    "                        \"data\",\n",
    "                        \"ext\",\n",
    "                        \"616181125_T_T100D_MARKET_ALL_CARRIER_CLEAN_10TO18_V0.sqlite\")\n",
    "con = sqlite3.connect(db_name)\n",
    "for year in range(2010, 2011):\n",
    "    csv_fname =  os.path.join(root_dir,\n",
    "                          \"airboard\",\n",
    "                          \"data\",\n",
    "                          \"ext\",\n",
    "                          f\"{year}_616181125_T_T100D_MARKET_ALL_CARRIER_CLEAN.csv\")\n",
    "    # read csv\n",
    "    year_df = pd.read_csv(csv_fname).iloc[:, 2:]\n",
    "#     year_df[\"index\"] = year_df[\"index\"].astype(\"int\")\n",
    "    \n",
    "#     year_df.to_sql(f\"Y{year}\", con, index=True, if_exists=\"replace\")\n",
    "    \n",
    "# con.close()"
   ]
  },
  {
   "cell_type": "code",
   "execution_count": 4,
   "metadata": {},
   "outputs": [
    {
     "data": {
      "text/plain": [
       "Index(['PASSENGERS', 'FREIGHT', 'MAIL', 'DISTANCE', 'UNIQUE_CARRIER',\n",
       "       'AIRLINE_ID', 'UNIQUE_CARRIER_NAME', 'UNIQUE_CARRIER_ENTITY', 'CARRIER',\n",
       "       'CARRIER_NAME', 'ORIGIN_AIRPORT_ID', 'DEST_AIRPORT_ID', 'YEAR',\n",
       "       'QUARTER', 'MONTH', 'DISTANCE_GROUP', 'CLASS', 'ORIGIN_AIRPORT_CODE',\n",
       "       'ORIGIN_LATITUDE', 'ORIGIN_LONGITUDE', 'ORIGIN_AIRPORT_NAME',\n",
       "       'ORIGIN_CITY_FULL', 'ORIGIN_AIRPORT_STATE', 'ORIGIN_AIRPORT_STATE_CODE',\n",
       "       'ORIGIN_AIRPORT_COUNTRY', 'DEST_AIRPORT_CODE', 'DEST_LATITUDE',\n",
       "       'DEST_LONGITUDE', 'DEST_AIRPORT_NAME', 'DEST_CITY_FULL',\n",
       "       'DEST_AIRPORT_STATE', 'DEST_AIRPORT_STATE_CODE', 'DEST_AIRPORT_COUNTRY',\n",
       "       'ORIGIN_AIRPORT_CITY', 'DEST_AIRPORT_CITY'],\n",
       "      dtype='object')"
      ]
     },
     "execution_count": 4,
     "metadata": {},
     "output_type": "execute_result"
    }
   ],
   "source": [
    "year_df.columns"
   ]
  },
  {
   "cell_type": "code",
   "execution_count": null,
   "metadata": {},
   "outputs": [],
   "source": []
  }
 ],
 "metadata": {
  "kernelspec": {
   "display_name": "Python [default]",
   "language": "python",
   "name": "python3"
  },
  "language_info": {
   "codemirror_mode": {
    "name": "ipython",
    "version": 3
   },
   "file_extension": ".py",
   "mimetype": "text/x-python",
   "name": "python",
   "nbconvert_exporter": "python",
   "pygments_lexer": "ipython3",
   "version": "3.6.4"
  }
 },
 "nbformat": 4,
 "nbformat_minor": 2
}
