{
 "cells": [
  {
   "cell_type": "code",
   "execution_count": 1,
   "metadata": {},
   "outputs": [],
   "source": [
    "# import dependencies\n",
    "import os, inspect\n",
    "from sqlalchemy import create_engine\n",
    "import sqlite3\n",
    "import pandas as pd\n",
    "\n",
    "# get current dir\n",
    "curr_dir = os.path.dirname(inspect.getabsfile(inspect.currentframe()))\n",
    "root_dir = os.path.dirname(curr_dir)"
   ]
  },
  {
   "cell_type": "code",
   "execution_count": 2,
   "metadata": {},
   "outputs": [],
   "source": [
    "version = \"01\"\n",
    "db_name =  os.path.join(root_dir,\n",
    "                        \"airboard\",\n",
    "                        \"data\",\n",
    "                        \"ext\",\n",
    "                        f\"616181125_T_T100D_MARKET_ALL_CARRIER_CLEAN_10TO18_V{version}.sqlite\")\n",
    "con = sqlite3.connect(db_name)\n",
    "for year in range(2010, 2019):\n",
    "    csv_fname =  os.path.join(root_dir,\n",
    "                          \"airboard\",\n",
    "                          \"data\",\n",
    "                          \"ext\",\n",
    "                          f\"{year}_616181125_T_T100D_MARKET_ALL_CARRIER_CLEAN_V{version}.csv\")\n",
    "    # read csv\n",
    "    year_df = pd.read_csv(csv_fname).iloc[:, 2:]\n",
    "#     year_df[\"index\"] = year_df[\"index\"].astype(\"int\")\n",
    "    \n",
    "    year_df.to_sql(f\"Y{year}\", con, index=True, if_exists=\"replace\")\n",
    "    \n",
    "# con.close()"
   ]
  },
  {
   "cell_type": "code",
   "execution_count": null,
   "metadata": {},
   "outputs": [],
   "source": []
  },
  {
   "cell_type": "code",
   "execution_count": null,
   "metadata": {},
   "outputs": [],
   "source": []
  }
 ],
 "metadata": {
  "kernelspec": {
   "display_name": "Python 3",
   "language": "python",
   "name": "python3"
  },
  "language_info": {
   "codemirror_mode": {
    "name": "ipython",
    "version": 3
   },
   "file_extension": ".py",
   "mimetype": "text/x-python",
   "name": "python",
   "nbconvert_exporter": "python",
   "pygments_lexer": "ipython3",
   "version": "3.6.6"
  }
 },
 "nbformat": 4,
 "nbformat_minor": 2
}
