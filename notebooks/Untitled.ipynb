{
 "cells": [
  {
   "cell_type": "code",
   "execution_count": 1,
   "metadata": {},
   "outputs": [],
   "source": [
    "from sqlalchemy import create_engine\n",
    "from sqlalchemy.ext.declarative import declarative_base\n",
    "from sqlalchemy import Column, Integer, String, Float, func, desc\n",
    "from sqlalchemy.orm import sessionmaker\n",
    "from sqlalchemy.sql import label"
   ]
  },
  {
   "cell_type": "code",
   "execution_count": 2,
   "metadata": {},
   "outputs": [],
   "source": [
    "engine = create_engine('sqlite:///:memory:', echo=True)"
   ]
  },
  {
   "cell_type": "code",
   "execution_count": 3,
   "metadata": {},
   "outputs": [],
   "source": [
    "Base = declarative_base()"
   ]
  },
  {
   "cell_type": "code",
   "execution_count": 4,
   "metadata": {},
   "outputs": [],
   "source": [
    "class Flight(Base): \n",
    "        __tablename__ = 'flights'   \n",
    "        id = Column(Integer, primary_key=True)\n",
    "        origin_city = Column(String)\n",
    "        dest_city = Column(String)\n",
    "        origin_state = Column(String)\n",
    "        dest_state = Column(String)\n",
    "        passengers = Column(Float)\n",
    "        mail = Column(Float)\n",
    "        airline = Column(String)\n",
    "        def __init__(self,\n",
    "                     origin_city,\n",
    "                     origin_state,\n",
    "                     dest_city,\n",
    "                     dest_state,\n",
    "                     passengers,\n",
    "                     mail,\n",
    "                     airline):\n",
    "            self.origin_city = origin_city\n",
    "            self.origin_state = origin_state\n",
    "            self.dest_city = dest_city\n",
    "            self.dest_state = dest_state\n",
    "            self.passengers = passengers\n",
    "            self.mail = mail\n",
    "            self.airline = airline"
   ]
  },
  {
   "cell_type": "code",
   "execution_count": 5,
   "metadata": {},
   "outputs": [
    {
     "name": "stdout",
     "output_type": "stream",
     "text": [
      "2018-08-22 02:18:16,547 INFO sqlalchemy.engine.base.Engine SELECT CAST('test plain returns' AS VARCHAR(60)) AS anon_1\n",
      "2018-08-22 02:18:16,551 INFO sqlalchemy.engine.base.Engine ()\n",
      "2018-08-22 02:18:16,553 INFO sqlalchemy.engine.base.Engine SELECT CAST('test unicode returns' AS VARCHAR(60)) AS anon_1\n",
      "2018-08-22 02:18:16,554 INFO sqlalchemy.engine.base.Engine ()\n",
      "2018-08-22 02:18:16,557 INFO sqlalchemy.engine.base.Engine PRAGMA table_info(\"flights\")\n",
      "2018-08-22 02:18:16,558 INFO sqlalchemy.engine.base.Engine ()\n",
      "2018-08-22 02:18:16,561 INFO sqlalchemy.engine.base.Engine \n",
      "CREATE TABLE flights (\n",
      "\tid INTEGER NOT NULL, \n",
      "\torigin_city VARCHAR, \n",
      "\tdest_city VARCHAR, \n",
      "\torigin_state VARCHAR, \n",
      "\tdest_state VARCHAR, \n",
      "\tpassengers FLOAT, \n",
      "\tmail FLOAT, \n",
      "\tairline VARCHAR, \n",
      "\tPRIMARY KEY (id)\n",
      ")\n",
      "\n",
      "\n",
      "2018-08-22 02:18:16,563 INFO sqlalchemy.engine.base.Engine ()\n",
      "2018-08-22 02:18:16,567 INFO sqlalchemy.engine.base.Engine COMMIT\n"
     ]
    }
   ],
   "source": [
    "Base.metadata.create_all(engine)"
   ]
  },
  {
   "cell_type": "code",
   "execution_count": 6,
   "metadata": {},
   "outputs": [],
   "source": [
    "fl_01 = Flight(\"OC_1\", \"OS_1\", \"DC_1\", \"DC_1\", 1, 10, \"A_1\")\n",
    "fl_02 = Flight(\"OC_1\", \"OS_1\", \"DC_1\", \"DC_1\", 2, 9, \"A_1\")\n",
    "fl_03 = Flight(\"OC_2\", \"OS_2\", \"DC_1\", \"DC_1\", 3, 8, \"A_1\")\n",
    "fl_04 = Flight(\"OC_3\", \"OS_2\", \"DC_1\", \"DC_1\", 4, 7, \"A_2\")\n",
    "fl_05 = Flight(\"OC_3\", \"OS_2\", \"DC_1\", \"DC_1\", 5, 6, \"A_2\")\n",
    "fl_06 = Flight(\"OC_2\", \"OS_2\", \"DC_1\", \"DC_1\", 6, 5, \"A_2\")\n",
    "fl_07 = Flight(\"OC_1\", \"OS_3\", \"DC_1\", \"DC_2\", 7, 4, \"A_2\")\n",
    "fl_08 = Flight(\"OC_2\", \"OS_3\", \"DC_1\", \"DC_2\", 8, 3, \"A_2\")\n",
    "fl_09 = Flight(\"OC_1\", \"OS_3\", \"DC_1\", \"DC_2\", 9, 2, \"A_2\")\n",
    "fl_10 = Flight(\"OC_3\", \"OS_3\", \"DC_1\", \"DC_2\", 10, 1, \"A_2\")\n"
   ]
  },
  {
   "cell_type": "code",
   "execution_count": 7,
   "metadata": {},
   "outputs": [],
   "source": [
    "Session = sessionmaker(bind=engine)\n",
    "db = Session()"
   ]
  },
  {
   "cell_type": "code",
   "execution_count": 8,
   "metadata": {},
   "outputs": [],
   "source": [
    "db.add(fl_01)\n",
    "db.add(fl_02)\n",
    "db.add(fl_03)\n",
    "db.add(fl_04)\n",
    "db.add(fl_05)\n",
    "db.add(fl_06)\n",
    "db.add(fl_07)\n",
    "db.add(fl_08)\n",
    "db.add(fl_09)\n",
    "db.add(fl_10)\n",
    "\n"
   ]
  },
  {
   "cell_type": "code",
   "execution_count": 18,
   "metadata": {},
   "outputs": [
    {
     "name": "stdout",
     "output_type": "stream",
     "text": [
      "2018-08-22 02:26:29,669 INFO sqlalchemy.engine.base.Engine SELECT flights.origin_state AS flights_origin_state, flights.origin_city AS flights_origin_city, flights.dest_city AS flights_dest_city, flights.dest_state AS flights_dest_state, sum(flights.passengers) AS total_passengers, sum(flights.mail) AS total_mail \n",
      "FROM flights GROUP BY flights.origin_state, flights.origin_city\n",
      "2018-08-22 02:26:29,670 INFO sqlalchemy.engine.base.Engine ()\n"
     ]
    },
    {
     "data": {
      "text/plain": [
       "[('OS_1', 'OC_1', 'DC_1', 'DC_1', 3.0, 19.0),\n",
       " ('OS_2', 'OC_2', 'DC_1', 'DC_1', 9.0, 13.0),\n",
       " ('OS_2', 'OC_3', 'DC_1', 'DC_1', 9.0, 13.0),\n",
       " ('OS_3', 'OC_1', 'DC_1', 'DC_2', 16.0, 6.0),\n",
       " ('OS_3', 'OC_2', 'DC_1', 'DC_2', 8.0, 3.0),\n",
       " ('OS_3', 'OC_3', 'DC_1', 'DC_2', 10.0, 1.0)]"
      ]
     },
     "execution_count": 18,
     "metadata": {},
     "output_type": "execute_result"
    }
   ],
   "source": [
    "response = db.query(\n",
    "    Flight.origin_state,\n",
    "    Flight.origin_city,\n",
    "    Flight.dest_city,\n",
    "    Flight.dest_state,\n",
    "    label(\"total_passengers\", func.sum(Flight.passengers)),\n",
    "    label(\"total_mail\", func.sum(Flight.mail)),\n",
    ").group_by(Flight.origin_state, Flight.origin_city).all()\n",
    "response"
   ]
  },
  {
   "cell_type": "code",
   "execution_count": 20,
   "metadata": {},
   "outputs": [
    {
     "name": "stdout",
     "output_type": "stream",
     "text": [
      "2018-08-22 02:27:18,181 INFO sqlalchemy.engine.base.Engine SELECT flights.origin_state AS flights_origin_state, flights.origin_city AS flights_origin_city, flights.dest_city AS flights_dest_city, flights.dest_state AS flights_dest_state, flights.airline AS flights_airline, sum(flights.passengers) AS total_passengers, sum(flights.mail) AS total_mail \n",
      "FROM flights GROUP BY flights.origin_state, flights.origin_city, flights.airline\n",
      "2018-08-22 02:27:18,183 INFO sqlalchemy.engine.base.Engine ()\n"
     ]
    },
    {
     "data": {
      "text/plain": [
       "[('OS_1', 'OC_1', 'DC_1', 'DC_1', 'A_1', 3.0, 19.0),\n",
       " ('OS_2', 'OC_2', 'DC_1', 'DC_1', 'A_1', 3.0, 8.0),\n",
       " ('OS_2', 'OC_2', 'DC_1', 'DC_1', 'A_2', 6.0, 5.0),\n",
       " ('OS_2', 'OC_3', 'DC_1', 'DC_1', 'A_2', 9.0, 13.0),\n",
       " ('OS_3', 'OC_1', 'DC_1', 'DC_2', 'A_2', 16.0, 6.0),\n",
       " ('OS_3', 'OC_2', 'DC_1', 'DC_2', 'A_2', 8.0, 3.0),\n",
       " ('OS_3', 'OC_3', 'DC_1', 'DC_2', 'A_2', 10.0, 1.0)]"
      ]
     },
     "execution_count": 20,
     "metadata": {},
     "output_type": "execute_result"
    }
   ],
   "source": [
    "response = db.query(\n",
    "    Flight.origin_state,\n",
    "    Flight.origin_city,\n",
    "    Flight.dest_city,\n",
    "    Flight.dest_state,\n",
    "    Flight.airline,\n",
    "    label(\"total_passengers\", func.sum(Flight.passengers)),\n",
    "    label(\"total_mail\", func.sum(Flight.mail)),\n",
    ").group_by(Flight.origin_state, Flight.origin_city, Flight.airline).all()\n",
    "response"
   ]
  },
  {
   "cell_type": "code",
   "execution_count": 25,
   "metadata": {},
   "outputs": [
    {
     "name": "stdout",
     "output_type": "stream",
     "text": [
      "2018-08-22 02:36:41,206 INFO sqlalchemy.engine.base.Engine SELECT flights.origin_state AS flights_origin_state, flights.origin_city AS flights_origin_city, flights.dest_city AS flights_dest_city, flights.dest_state AS flights_dest_state, sum(flights.passengers) AS total_passengers, sum(flights.mail) AS total_mail \n",
      "FROM flights \n",
      "WHERE flights.origin_state = ? GROUP BY flights.origin_city\n",
      "2018-08-22 02:36:41,208 INFO sqlalchemy.engine.base.Engine ('OS_2',)\n"
     ]
    },
    {
     "data": {
      "text/plain": [
       "[('OS_2', 'OC_2', 'DC_1', 'DC_1', 9.0, 13.0),\n",
       " ('OS_2', 'OC_3', 'DC_1', 'DC_1', 9.0, 13.0)]"
      ]
     },
     "execution_count": 25,
     "metadata": {},
     "output_type": "execute_result"
    }
   ],
   "source": [
    "response = db.query(\n",
    "    Flight.origin_state,\n",
    "    Flight.origin_city,\n",
    "    Flight.dest_city,\n",
    "    Flight.dest_state,\n",
    "    label(\"total_passengers\", func.sum(Flight.passengers)),\n",
    "    label(\"total_mail\", func.sum(Flight.mail)),) \\\n",
    "        .filter(Flight.origin_state == \"OS_2\") \\\n",
    "        .group_by(Flight.origin_city).all()\n",
    "response"
   ]
  },
  {
   "cell_type": "code",
   "execution_count": 31,
   "metadata": {},
   "outputs": [
    {
     "name": "stdout",
     "output_type": "stream",
     "text": [
      "2018-08-22 02:44:07,262 INFO sqlalchemy.engine.base.Engine SELECT flights.airline AS flights_airline, sum(flights.passengers) AS total_passengers, sum(flights.mail) AS total_mail \n",
      "FROM flights GROUP BY flights.airline\n",
      "2018-08-22 02:44:07,264 INFO sqlalchemy.engine.base.Engine ()\n"
     ]
    },
    {
     "data": {
      "text/plain": [
       "[('A_1', 6.0, 27.0), ('A_2', 49.0, 28.0)]"
      ]
     },
     "execution_count": 31,
     "metadata": {},
     "output_type": "execute_result"
    }
   ],
   "source": [
    "response = db.query(\n",
    "    Flight.airline,\n",
    "    label(\"total_passengers\", func.sum(Flight.passengers)),\n",
    "    label(\"total_mail\", func.sum(Flight.mail)),) \\\n",
    "        .group_by(Flight.airline).all()\n",
    "response"
   ]
  },
  {
   "cell_type": "code",
   "execution_count": null,
   "metadata": {},
   "outputs": [],
   "source": [
    "response = db.query(\n",
    "    Flight.origin_state,\n",
    "    Flight.origin_city,\n",
    "    Flight.airline,\n",
    "    label(\"total_passengers\", func.sum(Flight.passengers)),\n",
    "    label(\"total_mail\", func.sum(Flight.mail)),) \\\n",
    "        .filter(Flight.origin_state == \"OS_2\") \\\n",
    "        .group_by(Flight.airline).all()\n",
    "response"
   ]
  }
 ],
 "metadata": {
  "kernelspec": {
   "display_name": "Python 3",
   "language": "python",
   "name": "python3"
  },
  "language_info": {
   "codemirror_mode": {
    "name": "ipython",
    "version": 3
   },
   "file_extension": ".py",
   "mimetype": "text/x-python",
   "name": "python",
   "nbconvert_exporter": "python",
   "pygments_lexer": "ipython3",
   "version": "3.6.6"
  }
 },
 "nbformat": 4,
 "nbformat_minor": 2
}
