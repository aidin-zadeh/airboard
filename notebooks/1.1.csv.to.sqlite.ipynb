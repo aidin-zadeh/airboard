{
 "cells": [
  {
   "cell_type": "code",
   "execution_count": 1,
   "metadata": {},
   "outputs": [],
   "source": [
    "# import dependencies\n",
    "import os, inspect\n",
    "from sqlalchemy import create_engine\n",
    "import sqlite3\n",
    "import pandas as pd\n",
    "\n",
    "# get current dir\n",
    "curr_dir = os.path.dirname(inspect.getabsfile(inspect.currentframe()))\n",
    "root_dir = os.path.dirname(curr_dir)"
   ]
  },
  {
   "cell_type": "code",
   "execution_count": 2,
   "metadata": {},
   "outputs": [],
   "source": [
    "db_name =  os.path.join(root_dir,\n",
    "                        \"airboard\",\n",
    "                        \"data\",\n",
    "                        \"ext\",\n",
    "                        \"616181125_T_T100D_MARKET_ALL_CARRIER_CLEAN_10TO18_V1.sqlite\")\n",
    "con = sqlite3.connect(db_name)"
   ]
  },
  {
   "cell_type": "code",
   "execution_count": 3,
   "metadata": {},
   "outputs": [
    {
     "data": {
      "text/html": [
       "<div>\n",
       "<style scoped>\n",
       "    .dataframe tbody tr th:only-of-type {\n",
       "        vertical-align: middle;\n",
       "    }\n",
       "\n",
       "    .dataframe tbody tr th {\n",
       "        vertical-align: top;\n",
       "    }\n",
       "\n",
       "    .dataframe thead th {\n",
       "        text-align: right;\n",
       "    }\n",
       "</style>\n",
       "<table border=\"1\" class=\"dataframe\">\n",
       "  <thead>\n",
       "    <tr style=\"text-align: right;\">\n",
       "      <th></th>\n",
       "      <th>AIRPORT_ID</th>\n",
       "      <th>AIRPORT</th>\n",
       "      <th>LATITUDE</th>\n",
       "      <th>LONGITUDE</th>\n",
       "      <th>DISPLAY_AIRPORT_NAME</th>\n",
       "      <th>AIRPORT_STATE_NAME</th>\n",
       "      <th>AIRPORT_STATE_CODE</th>\n",
       "      <th>AIRPORT_COUNTRY_NAME</th>\n",
       "      <th>AIRPORT_CITY_NAME</th>\n",
       "    </tr>\n",
       "  </thead>\n",
       "  <tbody>\n",
       "    <tr>\n",
       "      <th>0</th>\n",
       "      <td>10001</td>\n",
       "      <td>01A</td>\n",
       "      <td>58.109444</td>\n",
       "      <td>-152.906667</td>\n",
       "      <td>Afognak Lake Airport</td>\n",
       "      <td>Alaska</td>\n",
       "      <td>AK</td>\n",
       "      <td>United States</td>\n",
       "      <td>Afognak Lake</td>\n",
       "    </tr>\n",
       "    <tr>\n",
       "      <th>1</th>\n",
       "      <td>10003</td>\n",
       "      <td>03A</td>\n",
       "      <td>65.548056</td>\n",
       "      <td>-161.071667</td>\n",
       "      <td>Bear Creek Mining Strip</td>\n",
       "      <td>Alaska</td>\n",
       "      <td>AK</td>\n",
       "      <td>United States</td>\n",
       "      <td>Granite Mountain</td>\n",
       "    </tr>\n",
       "    <tr>\n",
       "      <th>2</th>\n",
       "      <td>10004</td>\n",
       "      <td>04A</td>\n",
       "      <td>68.083333</td>\n",
       "      <td>-163.166667</td>\n",
       "      <td>Lik Mining Camp</td>\n",
       "      <td>Alaska</td>\n",
       "      <td>AK</td>\n",
       "      <td>United States</td>\n",
       "      <td>Lik</td>\n",
       "    </tr>\n",
       "    <tr>\n",
       "      <th>3</th>\n",
       "      <td>10005</td>\n",
       "      <td>05A</td>\n",
       "      <td>67.570000</td>\n",
       "      <td>-148.183889</td>\n",
       "      <td>Little Squaw Airport</td>\n",
       "      <td>Alaska</td>\n",
       "      <td>AK</td>\n",
       "      <td>United States</td>\n",
       "      <td>Little Squaw</td>\n",
       "    </tr>\n",
       "    <tr>\n",
       "      <th>4</th>\n",
       "      <td>10006</td>\n",
       "      <td>06A</td>\n",
       "      <td>57.745278</td>\n",
       "      <td>-152.882778</td>\n",
       "      <td>Kizhuyak Bay</td>\n",
       "      <td>Alaska</td>\n",
       "      <td>AK</td>\n",
       "      <td>United States</td>\n",
       "      <td>Kizhuyak</td>\n",
       "    </tr>\n",
       "  </tbody>\n",
       "</table>\n",
       "</div>"
      ],
      "text/plain": [
       "   AIRPORT_ID AIRPORT   LATITUDE   LONGITUDE     DISPLAY_AIRPORT_NAME  \\\n",
       "0       10001     01A  58.109444 -152.906667     Afognak Lake Airport   \n",
       "1       10003     03A  65.548056 -161.071667  Bear Creek Mining Strip   \n",
       "2       10004     04A  68.083333 -163.166667          Lik Mining Camp   \n",
       "3       10005     05A  67.570000 -148.183889     Little Squaw Airport   \n",
       "4       10006     06A  57.745278 -152.882778             Kizhuyak Bay   \n",
       "\n",
       "  AIRPORT_STATE_NAME AIRPORT_STATE_CODE AIRPORT_COUNTRY_NAME AIRPORT_CITY_NAME  \n",
       "0             Alaska                 AK        United States      Afognak Lake  \n",
       "1             Alaska                 AK        United States  Granite Mountain  \n",
       "2             Alaska                 AK        United States               Lik  \n",
       "3             Alaska                 AK        United States      Little Squaw  \n",
       "4             Alaska                 AK        United States          Kizhuyak  "
      ]
     },
     "execution_count": 3,
     "metadata": {},
     "output_type": "execute_result"
    }
   ],
   "source": [
    "# airport table\n",
    "csv_fname =  os.path.join(root_dir,\n",
    "                      \"airboard\",\n",
    "                      \"data\",\n",
    "                      \"ext\",\n",
    "                      \"616228237_AIRPORT_MASTER_CORD_CLEAN_V0.csv\")\n",
    "# read csv\n",
    "airports_df = pd.read_csv(csv_fname).iloc[:, 1:]\n",
    "airports_df.to_sql(\"AIRPORTS\", con, index=True, if_exists=\"replace\")\n",
    "airports_df.head()"
   ]
  },
  {
   "cell_type": "code",
   "execution_count": 4,
   "metadata": {},
   "outputs": [
    {
     "data": {
      "text/html": [
       "<div>\n",
       "<style scoped>\n",
       "    .dataframe tbody tr th:only-of-type {\n",
       "        vertical-align: middle;\n",
       "    }\n",
       "\n",
       "    .dataframe tbody tr th {\n",
       "        vertical-align: top;\n",
       "    }\n",
       "\n",
       "    .dataframe thead th {\n",
       "        text-align: right;\n",
       "    }\n",
       "</style>\n",
       "<table border=\"1\" class=\"dataframe\">\n",
       "  <thead>\n",
       "    <tr style=\"text-align: right;\">\n",
       "      <th></th>\n",
       "      <th>AIRPORT_STATE_CODE</th>\n",
       "      <th>LATITUDE</th>\n",
       "      <th>LONGITUDE</th>\n",
       "    </tr>\n",
       "  </thead>\n",
       "  <tbody>\n",
       "    <tr>\n",
       "      <th>0</th>\n",
       "      <td>AB</td>\n",
       "      <td>54.010936</td>\n",
       "      <td>-113.990804</td>\n",
       "    </tr>\n",
       "    <tr>\n",
       "      <th>1</th>\n",
       "      <td>AK</td>\n",
       "      <td>60.797532</td>\n",
       "      <td>-149.810723</td>\n",
       "    </tr>\n",
       "    <tr>\n",
       "      <th>2</th>\n",
       "      <td>AL</td>\n",
       "      <td>32.720152</td>\n",
       "      <td>-86.628245</td>\n",
       "    </tr>\n",
       "    <tr>\n",
       "      <th>3</th>\n",
       "      <td>AR</td>\n",
       "      <td>35.282701</td>\n",
       "      <td>-92.476513</td>\n",
       "    </tr>\n",
       "    <tr>\n",
       "      <th>4</th>\n",
       "      <td>AZ</td>\n",
       "      <td>34.232104</td>\n",
       "      <td>-111.858320</td>\n",
       "    </tr>\n",
       "  </tbody>\n",
       "</table>\n",
       "</div>"
      ],
      "text/plain": [
       "  AIRPORT_STATE_CODE   LATITUDE   LONGITUDE\n",
       "0                 AB  54.010936 -113.990804\n",
       "1                 AK  60.797532 -149.810723\n",
       "2                 AL  32.720152  -86.628245\n",
       "3                 AR  35.282701  -92.476513\n",
       "4                 AZ  34.232104 -111.858320"
      ]
     },
     "execution_count": 4,
     "metadata": {},
     "output_type": "execute_result"
    }
   ],
   "source": [
    "# states coordinates \n",
    "csv_fname =  os.path.join(root_dir,\n",
    "                      \"airboard\",\n",
    "                      \"data\",\n",
    "                      \"ext\",\n",
    "                      \"616228237_STATE_CORD_V0.csv\")\n",
    "# read csv\n",
    "states_df = pd.read_csv(csv_fname).iloc[:, 1:]\n",
    "states_df.to_sql(\"STATES_COORD\", con, index=True, if_exists=\"replace\")\n",
    "states_df.head()"
   ]
  },
  {
   "cell_type": "code",
   "execution_count": 5,
   "metadata": {},
   "outputs": [],
   "source": [
    "# years table\n",
    "for year in range(2010, 2019):\n",
    "    csv_fname =  os.path.join(root_dir,\n",
    "                          \"airboard\",\n",
    "                          \"data\",\n",
    "                          \"ext\",\n",
    "                          f\"{year}_616181125_T_T100D_MARKET_ALL_CARRIER_CLEAN_V1.csv\")\n",
    "    # read csv\n",
    "    year_df = pd.read_csv(csv_fname).iloc[:, 2:]\n",
    "#     year_df[\"index\"] = year_df[\"index\"].astype(\"int\")\n",
    "    \n",
    "    year_df.to_sql(f\"Y{year}\", con, index=True, if_exists=\"replace\")\n",
    "    \n",
    "# con.close()"
   ]
  },
  {
   "cell_type": "code",
   "execution_count": 6,
   "metadata": {},
   "outputs": [
    {
     "data": {
      "text/plain": [
       "Index(['PASSENGERS', 'FREIGHT', 'MAIL', 'DISTANCE', 'AIRLINE_ID',\n",
       "       'UNIQUE_CARRIER_ENTITY', 'UNIQUE_CARRIER_NAME', 'REGION',\n",
       "       'ORIGIN_AIRPORT_ID', 'DEST_AIRPORT_ID', 'YEAR', 'QUARTER', 'MONTH',\n",
       "       'DISTANCE_GROUP', 'CLASS'],\n",
       "      dtype='object')"
      ]
     },
     "execution_count": 6,
     "metadata": {},
     "output_type": "execute_result"
    }
   ],
   "source": [
    "year_df.columns"
   ]
  },
  {
   "cell_type": "code",
   "execution_count": null,
   "metadata": {},
   "outputs": [],
   "source": []
  }
 ],
 "metadata": {
  "kernelspec": {
   "display_name": "Python 3",
   "language": "python",
   "name": "python3"
  },
  "language_info": {
   "codemirror_mode": {
    "name": "ipython",
    "version": 3
   },
   "file_extension": ".py",
   "mimetype": "text/x-python",
   "name": "python",
   "nbconvert_exporter": "python",
   "pygments_lexer": "ipython3",
   "version": "3.6.6"
  }
 },
 "nbformat": 4,
 "nbformat_minor": 2
}
